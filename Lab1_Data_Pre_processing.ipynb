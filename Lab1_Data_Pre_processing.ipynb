{
  "nbformat": 4,
  "nbformat_minor": 0,
  "metadata": {
    "colab": {
      "provenance": [],
      "authorship_tag": "ABX9TyNPDELi6hY2PWQkY2qBP6Hy",
      "include_colab_link": true
    },
    "kernelspec": {
      "name": "python3",
      "display_name": "Python 3"
    },
    "language_info": {
      "name": "python"
    }
  },
  "cells": [
    {
      "cell_type": "markdown",
      "metadata": {
        "id": "view-in-github",
        "colab_type": "text"
      },
      "source": [
        "<a href=\"https://colab.research.google.com/github/silwalprabin/BoofCV/blob/master/Lab1_Data_Pre_processing.ipynb\" target=\"_parent\"><img src=\"https://colab.research.google.com/assets/colab-badge.svg\" alt=\"Open In Colab\"/></a>"
      ]
    },
    {
      "cell_type": "markdown",
      "source": [
        "**1.1 Data Cleaning:**\n",
        "You are given a dataset employee_data.csv containing information about employees, including their ID, name, age, department, and salary. The dataset has missing values and some inconsistencies in the department names (e.g., \"HR\", \"Human Resources\", \"H.R.\" should all be treated as \"HR\"). Perform the following data cleaning tasks:\n",
        "\n",
        "\n",
        "1.   Handle missing values in the dataset.\n",
        "2.   Standardize the department names to ensure consistency.\n",
        "3.   Remove any duplicate records.\n",
        "\n",
        "**Tasks:**\n",
        "\n",
        "\n",
        "*   Load the dataset and inspect the first few rows.\n",
        "*   Identify and handle missing values in the dataset.\n",
        "*   Standardize department names by replacing variations with a single standard value.\n",
        "*   Remove duplicate records based on the ID column.\n"
      ],
      "metadata": {
        "id": "jLYTvDOP2bVj"
      }
    },
    {
      "cell_type": "code",
      "source": [
        "# SAMPLE DATA:: employee_data.csv\n",
        "ID,Name,Age,Department,Salary\n",
        "1,John,28,HR,50000\n",
        "2,Jane,35,Finance,60000\n",
        "3,Emily,,HR,55000\n",
        "4,Michael,40,Human Resources,\n",
        "5,Sarah,29,IT,52000\n",
        "6,David,50,Finance,75000\n",
        "7,Laura,38,H.R.,68000\n",
        "8,Robert,32,HR,57000\n",
        "9,Linda,45,IT,62000\n",
        "10,James,30,HR,51000\n",
        "11,James,30,HR,51000"
      ],
      "metadata": {
        "id": "ESklno1y2all"
      },
      "execution_count": null,
      "outputs": []
    },
    {
      "cell_type": "code",
      "execution_count": null,
      "metadata": {
        "colab": {
          "base_uri": "https://localhost:8080/"
        },
        "id": "Ju9j1mhX1RXx",
        "outputId": "184fee9f-109f-4c9b-80c8-7d3f673c6ac1"
      },
      "outputs": [
        {
          "output_type": "stream",
          "name": "stdout",
          "text": [
            "Initial Data:\n",
            "    ID     Name   Age       Department   Salary\n",
            "0   1     John  28.0               HR  50000.0\n",
            "1   2     Jane  35.0          Finance  60000.0\n",
            "2   3    Emily   NaN               HR  55000.0\n",
            "3   4  Michael  40.0  Human Resources      NaN\n",
            "4   5    Sarah  29.0               IT  52000.0\n",
            "\n",
            "Cleaned Data:\n",
            "    ID     Name   Age Department   Salary\n",
            "0   1     John  28.0         HR  50000.0\n",
            "1   2     Jane  35.0    Finance  60000.0\n",
            "2   3    Emily  35.7         HR  55000.0\n",
            "3   4  Michael  40.0         HR  58100.0\n",
            "4   5    Sarah  29.0         IT  52000.0\n"
          ]
        }
      ],
      "source": [
        "import pandas as pd\n",
        "# Step 1: Load the dataset\n",
        "df = pd.read_csv('lab1-datasets/employee_data.csv')\n",
        "print(\"Initial Data:\\n\", df.head())\n",
        "# Step 2: Handle missing values# Fill missing 'Age' with the mean age and 'Salary' with the mean salary\n",
        "df['Age'].fillna(df['Age'].mean(), inplace=True)\n",
        "df['Salary'].fillna(df['Salary'].mean(), inplace=True)\n",
        "# Step 3: Standardize department names\n",
        "df['Department'] = df['Department'].replace({\n",
        "    'Human Resources': 'HR',\n",
        "    'H.R.': 'HR',\n",
        "    'hr': 'HR'\n",
        "})\n",
        "# Step 4: Remove duplicate records based on 'ID'\n",
        "df.drop_duplicates(subset='ID', keep='first', inplace=True)\n",
        "print(\"\\nCleaned Data:\\n\", df.head())\n"
      ]
    },
    {
      "cell_type": "markdown",
      "source": [
        "**1.2 Normalization:**\n",
        "You are given a dataset student_scores.csv that contains the scores of students in different subjects. The scores are on different scales (e.g., some are out of 100, others out of 50). Normalize the scores to a common scale for comparison.\n",
        "\n",
        "\n",
        "1.   Normalize the scores of all subjects to a 0-1 scale using Min-Max normalization.\n",
        "2.   Compare the original and normalized scores.\n",
        "\n",
        "**Tasks:**\n",
        "\n",
        "*   Load the dataset and inspect the first few rows.\n",
        "*   Apply Min-Max normalization to the scores of all subjects.\n",
        "*   Display the original and normalized scores side by side.\n"
      ],
      "metadata": {
        "id": "mCYOYBN5SPKQ"
      }
    },
    {
      "cell_type": "code",
      "source": [
        "import pandas as pd\n",
        "from sklearn.preprocessing import MinMaxScaler\n",
        "\n",
        "# Step 1: Load the dataset\n",
        "df = pd.read_csv('lab1-datasets/student_scores.csv')\n",
        "print(\"Initial Data:\\n\", df.head())\n",
        "\n",
        "# Step 2: Apply Min-Max normalization\n",
        "scaler = MinMaxScaler()\n",
        "df[['Math', 'Science', 'English']] = scaler.fit_transform(df[['Math', 'Science', 'English']])\n",
        "\n",
        "print(\"\\nNormalized Scores:\\n\", df.head())\n"
      ],
      "metadata": {
        "colab": {
          "base_uri": "https://localhost:8080/"
        },
        "id": "4PZCEHSEQiky",
        "outputId": "96f3f9e3-a966-4915-dbf6-791886952c46"
      },
      "execution_count": null,
      "outputs": [
        {
          "output_type": "stream",
          "name": "stdout",
          "text": [
            "Initial Data:\n",
            "    StudentID  Math  Science  English\n",
            "0          1    78       65       80\n",
            "1          2    88       75       85\n",
            "2          3    60       50       55\n",
            "3          4    90       78       92\n",
            "4          5    55       48       58\n",
            "\n",
            "Normalized Scores:\n",
            "    StudentID      Math  Science   English\n",
            "0          1  0.657143  0.53125  0.675676\n",
            "1          2  0.942857  0.84375  0.810811\n",
            "2          3  0.142857  0.06250  0.000000\n",
            "3          4  1.000000  0.93750  1.000000\n",
            "4          5  0.000000  0.00000  0.081081\n"
          ]
        }
      ]
    },
    {
      "cell_type": "markdown",
      "source": [
        "**1.3 Data Binning**\n",
        "You are given a dataset customer_ages.csv that contains the ages of customers. Perform data binning on the Age column to group customers into age ranges: \"Young\" (18-30), \"Middle-aged\" (31-50), and \"Senior\" (51 and above).\n",
        "\n",
        "\n",
        "1.   Perform data binning on the Age column.\n",
        "2.   Assign a category label to each age group.\n",
        "3.   Analyze the distribution of customers across the age groups.\n",
        "\n",
        "**Tasks:**\n",
        "\n",
        "\n",
        "*   Load the dataset and inspect the first few rows.\n",
        "*   Create bins for the Age column and assign category labels.\n",
        "*   Calculate the number of customers in each age group.\n"
      ],
      "metadata": {
        "id": "6H0Pm5doS0qZ"
      }
    },
    {
      "cell_type": "code",
      "source": [
        "import pandas as pd\n",
        "\n",
        "# Step 1: Load the dataset\n",
        "df = pd.read_csv('lab1-datasets/customer_ages.csv')\n",
        "print(\"Initial Data:\\n\", df.head())\n",
        "\n",
        "# Step 2: Create bins and assign labels\n",
        "bins = [18, 30, 50, 100]\n",
        "labels = ['Young', 'Middle-aged', 'Senior']\n",
        "df['AgeGroup'] = pd.cut(df['Age'], bins=bins, labels=labels, right=False)\n",
        "\n",
        "print(\"\\nData after Binning:\\n\", df.head())\n",
        "\n",
        "# Step 3: Calculate distribution of customers in each age group\n",
        "age_group_distribution = df['AgeGroup'].value_counts()\n",
        "print(\"\\nAge Group Distribution:\\n\", age_group_distribution)\n"
      ],
      "metadata": {
        "colab": {
          "base_uri": "https://localhost:8080/"
        },
        "id": "AH34FeFPS1I0",
        "outputId": "81b1ca74-0245-4764-ec04-30ba7becaa48"
      },
      "execution_count": null,
      "outputs": [
        {
          "output_type": "stream",
          "name": "stdout",
          "text": [
            "Initial Data:\n",
            "    CustomerID  Age\n",
            "0           1   25\n",
            "1           2   42\n",
            "2           3   36\n",
            "3           4   53\n",
            "4           5   28\n",
            "\n",
            "Data after Binning:\n",
            "    CustomerID  Age     AgeGroup\n",
            "0           1   25        Young\n",
            "1           2   42  Middle-aged\n",
            "2           3   36  Middle-aged\n",
            "3           4   53       Senior\n",
            "4           5   28        Young\n",
            "\n",
            "Age Group Distribution:\n",
            " AgeGroup\n",
            "Middle-aged    7\n",
            "Young          5\n",
            "Senior         3\n",
            "Name: count, dtype: int64\n"
          ]
        }
      ]
    },
    {
      "cell_type": "markdown",
      "source": [
        "**1.4 Discritization**\n",
        "You are given a dataset sales_data.csv that contains the monthly sales figures of a company. The sales figures are continuous values. Discretize the sales data into categories such as \"Low\", \"Medium\", and \"High\" based on sales volume.\n",
        "\n",
        "\n",
        "1.   Discretize the Sales column into three categories.\n",
        "2.   Assign a category label based on the discretized sales values.\n",
        "3.   Analyze the distribution of sales across the categories.\n",
        "\n",
        "**Tasks:**\n",
        "\n",
        "*   Load the dataset and inspect the first few rows.\n",
        "*   Apply discretization to the Sales column.\n",
        "*   Assign appropriate category labels and analyze the distribution.\n"
      ],
      "metadata": {
        "id": "jNPxjvvPTLwT"
      }
    },
    {
      "cell_type": "code",
      "source": [
        "import pandas as pd\n",
        "\n",
        "# Step 1: Load the dataset\n",
        "df = pd.read_csv('lab1-datasets/sales_data.csv')\n",
        "print(\"Initial Data:\\n\", df.head())\n",
        "\n",
        "# Step 2: Apply discretization\n",
        "bins = [0, 5000, 20000, float('inf')]\n",
        "labels = ['Low', 'Medium', 'High']\n",
        "df['SalesCategory'] = pd.cut(df['Sales'], bins=bins, labels=labels)\n",
        "\n",
        "print(\"\\nData after Discretization:\\n\", df.head())\n",
        "\n",
        "# Step 3: Analyze the distribution of sales categories\n",
        "sales_category_distribution = df['SalesCategory'].value_counts()\n",
        "print(\"\\nSales Category Distribution:\\n\", sales_category_distribution)\n"
      ],
      "metadata": {
        "colab": {
          "base_uri": "https://localhost:8080/"
        },
        "id": "r-ozf1EJTd-w",
        "outputId": "8cd930fd-49d2-452b-aff5-5d6a30ed9502"
      },
      "execution_count": null,
      "outputs": [
        {
          "output_type": "stream",
          "name": "stdout",
          "text": [
            "Initial Data:\n",
            "       Month  Sales\n",
            "0   January  15000\n",
            "1  February  18000\n",
            "2     March  12000\n",
            "3     April  30000\n",
            "4       May  22000\n",
            "\n",
            "Data after Discretization:\n",
            "       Month  Sales SalesCategory\n",
            "0   January  15000        Medium\n",
            "1  February  18000        Medium\n",
            "2     March  12000        Medium\n",
            "3     April  30000          High\n",
            "4       May  22000          High\n",
            "\n",
            "Sales Category Distribution:\n",
            " SalesCategory\n",
            "Medium    7\n",
            "High      4\n",
            "Low       1\n",
            "Name: count, dtype: int64\n"
          ]
        }
      ]
    },
    {
      "cell_type": "markdown",
      "source": [
        "**1.5 Feature Selection**\n",
        "You are given a dataset medical_data.csv that contains several features related to patients' medical history and a target variable indicating whether they have a specific disease. Perform feature selection to identify the most important features for predicting the disease.\n",
        "\n",
        "1.   Use a feature selection method (e.g., Chi-square test, ANOVA, or correlation) to rank the features.\n",
        "2.   Identify the top 3 features related to the target variable.\n",
        "3.   Discuss how the selected features could influence the prediction.\n",
        "\n",
        "**Tasks:**\n",
        "\n",
        "\n",
        "*   Load the dataset and inspect the first few rows.\n",
        "*   Apply a feature selection method to rank the features.\n",
        "*   Identify and display the top 3 features.\n"
      ],
      "metadata": {
        "id": "pvJ11LV_ThNQ"
      }
    },
    {
      "cell_type": "code",
      "source": [
        "import pandas as pd\n",
        "from sklearn.feature_selection import SelectKBest, chi2\n",
        "\n",
        "# Step 1: Load the dataset\n",
        "df = pd.read_csv('lab1-datasets/medical_data.csv')\n",
        "print(\"Initial Data:\\n\", df.head())\n",
        "\n",
        "# Step 2: Define features and target variable\n",
        "X = df.drop(columns=['Disease'])\n",
        "y = df['Disease']\n",
        "\n",
        "# Step 3: Apply Chi-square feature selection\n",
        "selector = SelectKBest(score_func=chi2, k=3)\n",
        "selector.fit(X, y)\n",
        "\n",
        "# Step 4: Get the top 3 features\n",
        "top_features = X.columns[selector.get_support()]\n",
        "print(\"\\nTop 3 Features for Predicting Disease:\\n\", top_features)\n"
      ],
      "metadata": {
        "colab": {
          "base_uri": "https://localhost:8080/"
        },
        "id": "15DicR5NTwg2",
        "outputId": "3bbc641f-fd98-419d-c5f3-cd80022d91e8"
      },
      "execution_count": null,
      "outputs": [
        {
          "output_type": "stream",
          "name": "stdout",
          "text": [
            "Initial Data:\n",
            "    PatientID  Age  BloodPressure  Cholesterol  Glucose  HeartRate  Disease\n",
            "0          1   45            130          180       95         70        1\n",
            "1          2   50            140          200      105         75        1\n",
            "2          3   60            150          240      120         80        1\n",
            "3          4   40            120          170       90         65        0\n",
            "4          5   35            110          160       85         60        0\n",
            "\n",
            "Top 3 Features for Predicting Disease:\n",
            " Index(['Age', 'Cholesterol', 'Glucose'], dtype='object')\n"
          ]
        }
      ]
    }
  ]
}